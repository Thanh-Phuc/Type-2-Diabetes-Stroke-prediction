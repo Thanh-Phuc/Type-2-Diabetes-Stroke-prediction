{
  "nbformat": 4,
  "nbformat_minor": 0,
  "metadata": {
    "colab": {
      "provenance": [],
      "toc_visible": true,
      "authorship_tag": "ABX9TyNv6cfhdqxn7LaKofX3SO+k",
      "include_colab_link": true
    },
    "kernelspec": {
      "name": "python3",
      "display_name": "Python 3"
    },
    "language_info": {
      "name": "python"
    }
  },
  "cells": [
    {
      "cell_type": "markdown",
      "metadata": {
        "id": "view-in-github",
        "colab_type": "text"
      },
      "source": [
        "<a href=\"https://colab.research.google.com/github/Thanh-Phuc/Type-2-Diabetes-Stroke-prediction/blob/main/Stroke_prediction_Streamlit.ipynb\" target=\"_parent\"><img src=\"https://colab.research.google.com/assets/colab-badge.svg\" alt=\"Open In Colab\"/></a>"
      ]
    },
    {
      "cell_type": "code",
      "execution_count": null,
      "metadata": {
        "id": "GL_bNbpm8hUU"
      },
      "outputs": [],
      "source": [
        "pip install streamlit\n",
        "import streamlit as st"
      ]
    },
    {
      "cell_type": "markdown",
      "source": [
        "# Installation"
      ],
      "metadata": {
        "id": "xDJTj2Ic8zgN"
      }
    },
    {
      "cell_type": "code",
      "source": [
        "from sklearn.linear_model import LinearRegression, LogisticRegression, SGDClassifier\n",
        "import streamlit as st\n",
        "from streamlit_shap import st_shap\n",
        "import shap\n",
        "import numpy as np\n",
        "import pandas as pd\n",
        "from sklearn.experimental import enable_iterative_imputer\n",
        "from sklearn.impute import IterativeImputer\n",
        "import pickle\n",
        "import streamviz\n",
        "import joblib"
      ],
      "metadata": {
        "id": "1MUc0oGa8mBq"
      },
      "execution_count": null,
      "outputs": []
    },
    {
      "cell_type": "markdown",
      "source": [
        "# Running the application"
      ],
      "metadata": {
        "id": "7ggTzzUJ80lL"
      }
    },
    {
      "cell_type": "markdown",
      "source": [
        "## Data loading"
      ],
      "metadata": {
        "id": "ZlURaQvl8_fo"
      }
    },
    {
      "cell_type": "code",
      "source": [
        "@st.cache_data\n",
        "def load_model():\n",
        "    model_path = \"./weight/stroke_diabetes_xgboost.pkl\"\n",
        "    xgb_model_loaded = pickle.load(open(model_path, \"rb\"))\n",
        "    return xgb_model_loaded"
      ],
      "metadata": {
        "id": "jJGHMyzv84o2"
      },
      "execution_count": null,
      "outputs": []
    },
    {
      "cell_type": "markdown",
      "source": [
        "## Impute missing"
      ],
      "metadata": {
        "id": "bQ6ADBMh-G_b"
      }
    },
    {
      "cell_type": "code",
      "source": [
        "# def impute_user_dataframe(df_beta):\n",
        "#     print(\"df_beta\",df_beta)\n",
        "#     with open('./weight/mice_imputer.pkl', 'rb') as f:\n",
        "#         mice_imputerX = pickle.load(f)\n",
        "#\n",
        "#     df_tmu = df_beta\n",
        "#     # percentage of null in every column\n",
        "#     null_percentage = df_tmu.isnull().sum() / df_tmu.shape[0] * 100\n",
        "#     # list of columns having missing\n",
        "#     col_missing_tmu = null_percentage[null_percentage > 0].keys()\n",
        "#     # create df with missing columns\n",
        "#     df_tmu_mice = df_tmu.filter(col_missing_tmu, axis=1).copy()\n",
        "#     # Fill missing value\n",
        "#     print(\"df_tmu_mice\",df_tmu_mice)\n",
        "#     df_tmu_mice_preimputed = pd.DataFrame(mice_imputerX.transform(df_tmu_mice), columns=df_tmu_mice.columns)\n",
        "#     # df_tmu_mice_imputed = pd.DataFrame(mice_imputer.fit_transform(df_tmu_mice), columns=df_tmu_mice.columns)\n",
        "#     # Replace mising columns in ds1 by columns in df_mice\n",
        "#     df_tmu[col_missing_tmu] = df_tmu_mice_preimputed[col_missing_tmu].values\n",
        "#     df_tmu = df_tmu.apply(lambda col: np.where(0 > col, col.median(), col))\n",
        "#\n",
        "#     return df_tmu"
      ],
      "metadata": {
        "id": "w7MiZlqB9jM-"
      },
      "execution_count": null,
      "outputs": []
    },
    {
      "cell_type": "markdown",
      "source": [
        "## Desing apps"
      ],
      "metadata": {
        "id": "Z6FPKi1xFqT0"
      }
    },
    {
      "cell_type": "code",
      "source": [
        "st.set_page_config(layout=\"wide\")\n",
        "\n",
        "# CSS to style the sidebar and columns\n",
        "st.markdown(\n",
        "    \"\"\"\n",
        "    <style>\n",
        "    .sidebar .sidebar-content {\n",
        "        background-color: #333333;  /* Dark grey background */\n",
        "        padding: 20px;\n",
        "        border-radius: 10px;\n",
        "    }\n",
        "    .main-container {\n",
        "        display: flex;\n",
        "        justify-content: space-between;\n",
        "    }\n",
        "    .col {\n",
        "        flex: 1;\n",
        "        padding: 20px;\n",
        "        margin: 10px;\n",
        "        border-radius: 10px;\n",
        "    }\n",
        "    .col2 {\n",
        "        background-color: #FFFFFF;  /* White background */\n",
        "    }\n",
        "    .col3 {\n",
        "        background-color: #F0F2F6;  /* Light grey background */\n",
        "    }\n",
        "    .col4 {\n",
        "        background-color: #F63366;  /* Primary color background */\n",
        "    }\n",
        "    </style>\n",
        "    \"\"\",\n",
        "    unsafe_allow_html=True\n",
        ")\n",
        "\n",
        "st.title(\"5-year Stroke Prediction among Type 2 Diabetes Patients\")\n",
        "\n",
        "# Sidebar content\n",
        "with st.sidebar:\n",
        "    st.markdown(\n",
        "        \"\"\"\n",
        "        <div class='sidebar-content'>\n",
        "        <h1 style='color: blue;'>Medical Data Entry</h1>\n",
        "        <h2>Personal Information</h2>\n",
        "        \"\"\",\n",
        "        unsafe_allow_html=True\n",
        "    )\n",
        "\n",
        "    data = {\n",
        "        'Age': 40,\n",
        "        'BMI': 26.47704,\n",
        "        'Cholesterol': 130.0,\n",
        "        'Triglyceride': 200.0,\n",
        "        'Creatinine': 0.5,\n",
        "        'GlucoseAC': 70.0,\n",
        "        'HbA1c': 4.6,\n",
        "        'Antidiabetic drug': 9.0,\n",
        "        'Sex': True,\n",
        "        'Med_Beta_Blocking': False,\n",
        "        'Med_Lipid_Modifying': False,\n",
        "        'Nervous_System_Drugs': False,\n",
        "        'Hyperlipidemia': False,\n",
        "        'Med_Calcium_Channel_Blockers': False,\n",
        "        'Cardiac_Therapy': False,\n",
        "        'stroke_hist': False,\n",
        "        'Med_Renin_Angiotensin': False,\n",
        "        'Med_Antithrombotic': False,\n",
        "        'Med_Antigout': False\n",
        "    }\n",
        "\n",
        "    age = st.number_input('Age', value=data['Age'], format=\"%i\", step=1)\n",
        "    sex = st.radio(\"Sex\", [\"Female\", \"Male\"], horizontal=True, index=0)\n",
        "    bmi = st.number_input('BMI', value=data['BMI'], format=\"%.1f\", step=.1)\n",
        "    stroke_hist = st.radio(\"Did you have Stroke before?\", [\"Never\", \"Yes\"], horizontal=True, index=0)\n",
        "    hyperlipidemia = st.radio(\"Do you currently have Hyperlipidemia?\", [\"Never\", \"Yes\"], horizontal=True, index=0)\n",
        "\n",
        "    st.subheader(\"Medication\")\n",
        "    Antidiabetic_baby = [\"Metformin\", \"SU\", \"ALGi\", \"TZD\",\n",
        "                         \"DPP4i\", \"GLP1-RA\", \"SGLT2i\", \"Other blood glucose lowering drugs, excl. insulins\",\n",
        "                         \"Combination\"]\n",
        "    antidiabetic_option = st.selectbox(\"Antidiabetic drugs\", Antidiabetic_baby)\n",
        "    antidiabetic_drug = Antidiabetic_baby.index(antidiabetic_option)\n",
        "\n",
        "    cardiac_therapy = st.radio(\"Cardiac therapy\", [\"No\", \"Yes\"], horizontal=True, index=0)\n",
        "    med_beta_blocking = st.radio(\"Beta blocking agents\", [\"No\", \"Yes\"], horizontal=True, index=0)\n",
        "    med_calcium_channel_blockers = st.radio(\"Calcium channel blockers\", [\"No\", \"Yes\"], horizontal=True, index=0)\n",
        "    med_renin_angiotensin = st.radio(\"Agents acting on the renin-angiotensin system\", [\"No\", \"Yes\"], horizontal=True, index=0)\n",
        "    med_lipid_modifying = st.radio(\"Lipid modifying agents\", [\"No\", \"Yes\"], horizontal=True, index=0)\n",
        "    med_antigout = st.radio(\"Antigout preparations\", [\"No\", \"Yes\"], horizontal=True, index=0)\n",
        "    med_antithrombotic = st.radio(\"Antithrombotic agents\", [\"No\", \"Yes\"], horizontal=True, index=0)\n",
        "    nervous_system_drugs = st.radio(\"Nervous system drug\", [\"No\", \"Yes\"], horizontal=True, index=0)\n",
        "\n",
        "    st.subheader(\"Laboratory Test\")\n",
        "    cholesterol = st.number_input('Cholesterol (mg/dl)', value=data['Cholesterol'], format=\"%.1f\", step=.1)\n",
        "    triglyceride = st.number_input('Triglyceride (mg/dl)', value=data['Triglyceride'], format=\"%.1f\", step=.1)\n",
        "    creatinine = st.number_input('Creatinine (mg/dl)', value=data['Creatinine'], format=\"%.1f\", step=.1)\n",
        "    glucose_ac = st.number_input('GlucoseAC (mg/dl)', value=data['GlucoseAC'], format=\"%.1f\", step=.1)\n",
        "    hba1c = st.number_input('HbA1c', value=data['HbA1c'], format=\"%.1f\", step=.1)\n",
        "\n",
        "    data.update({\n",
        "        'Age': age,\n",
        "        'BMI': bmi,\n",
        "        'Cholesterol': cholesterol,\n",
        "        'Triglyceride': triglyceride,\n",
        "        'Creatinine': creatinine,\n",
        "        'GlucoseAC': glucose_ac,\n",
        "        'HbA1c': hba1c,\n",
        "        'Antidiabetic drug': antidiabetic_drug,\n",
        "        'Sex': float(sex == \"Male\"),\n",
        "        'Med_Beta_Blocking': float(med_beta_blocking == \"Yes\"),\n",
        "        'Med_Lipid_Modifying': float(med_lipid_modifying == \"Yes\"),\n",
        "        'Nervous_System_Drugs': float(nervous_system_drugs == \"Yes\"),\n",
        "        'Hyperlipidemia': float(hyperlipidemia == \"Yes\"),\n",
        "        'Med_Calcium_Channel_Blockers': float(med_calcium_channel_blockers == \"Yes\"),\n",
        "        'Cardiac_Therapy': float(cardiac_therapy == \"Yes\"),\n",
        "        'stroke_hist': float(stroke_hist == \"Yes\"),\n",
        "        'Med_Renin_Angiotensin': float(med_renin_angiotensin == \"Yes\"),\n",
        "        'Med_Antithrombotic': float(med_antithrombotic == \"Yes\"),\n",
        "        'Med_Antigout': float(med_antigout == \"Yes\"),\n",
        "    })\n",
        "\n",
        "# Create columns for the main content\n",
        "col2, col3 = st.columns(2)\n",
        "\n",
        "with col2:\n",
        "    st.markdown(\n",
        "        \"\"\"\n",
        "        <div class='col col2'>\n",
        "        <h2 style='color: red;'>Stroke Prediction</h2>\n",
        "        </div>\n",
        "        \"\"\",\n",
        "        unsafe_allow_html=True\n",
        "    )\n",
        "\n",
        "    df = pd.DataFrame([data])#impute_user_dataframe(pd.DataFrame([data]))\n",
        "    model = load_model()\n",
        "    outcome = model.predict_proba(df.head(1))\n",
        "\n",
        "    with open(\"./weight/explainer.sav\", 'rb') as f:\n",
        "        loaded_explainer = joblib.load(f)\n",
        "\n",
        "    explainer = loaded_explainer\n",
        "    shap_values = explainer(df)\n",
        "\n",
        "    st_shap(shap.plots.waterfall(shap_values[0], max_display=15), height=600)\n",
        "\n",
        "    def get_stroke_percentage(score):\n",
        "        if score < 0 or score > 0.2:\n",
        "            raise ValueError(\"Score must be between 0 and 0.2\")\n",
        "        breakpoints = [(0.0, 0), (0.002, 25), (0.0038, 50), (0.0139, 75), (0.2, 100)]\n",
        "        for i in range(len(breakpoints) - 1):\n",
        "            (x0, y0), (x1, y1) = breakpoints[i], breakpoints[i + 1]\n",
        "            if x0 <= score <= x1:\n",
        "                return y0 + (score - x0) * (y1 - y0) / (x1 - x0)\n",
        "        return breakpoints[-1][1]\n",
        "\n",
        "    gauge_value = round(get_stroke_percentage(outcome[0][1]), 2)\n",
        "\n",
        "    low_range = 25\n",
        "    mid_range = 75\n",
        "    low_color = \"green\"\n",
        "    mid_color = \"yellow\"\n",
        "    high_color = \"red\"\n",
        "    ar_top = 100\n",
        "\n",
        "    streamviz.gauge(\n",
        "        gVal=gauge_value, gSize=\"LRG\",\n",
        "        gTitle=\"Risk of stroke in 5 years\", gMode=\"gauge+number\",\n",
        "        grLow=low_range,\n",
        "        grMid=mid_range,\n",
        "        gcLow=low_color,\n",
        "        gcMid=mid_color,\n",
        "        gcHigh=high_color,\n",
        "        arTop=ar_top\n",
        "    )\n",
        "\n",
        "with col3:\n",
        "    pass\n"
      ],
      "metadata": {
        "id": "cwzMwdKCFgbn"
      },
      "execution_count": null,
      "outputs": []
    },
    {
      "cell_type": "markdown",
      "source": [
        "## Running the apps"
      ],
      "metadata": {
        "id": "WykOqXT3UXHZ"
      }
    },
    {
      "cell_type": "code",
      "source": [
        "streamlit run app.py"
      ],
      "metadata": {
        "id": "PBxam2nq8qSm"
      },
      "execution_count": null,
      "outputs": []
    }
  ]
}